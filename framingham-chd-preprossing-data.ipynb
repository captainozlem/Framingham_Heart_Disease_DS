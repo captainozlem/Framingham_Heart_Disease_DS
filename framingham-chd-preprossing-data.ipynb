{
 "cells": [
  {
   "cell_type": "code",
   "execution_count": 1,
   "metadata": {
    "execution": {
     "iopub.execute_input": "2021-02-22T22:54:34.839286Z",
     "iopub.status.busy": "2021-02-22T22:54:34.838578Z",
     "iopub.status.idle": "2021-02-22T22:54:34.841772Z",
     "shell.execute_reply": "2021-02-22T22:54:34.841180Z"
    },
    "papermill": {
     "duration": 0.041311,
     "end_time": "2021-02-22T22:54:34.841993",
     "exception": false,
     "start_time": "2021-02-22T22:54:34.800682",
     "status": "completed"
    },
    "tags": []
   },
   "outputs": [],
   "source": [
    "import pandas as pd\n",
    "import numpy as np"
   ]
  },
  {
   "cell_type": "code",
   "execution_count": 2,
   "metadata": {
    "execution": {
     "iopub.execute_input": "2021-02-22T22:54:34.911148Z",
     "iopub.status.busy": "2021-02-22T22:54:34.910431Z",
     "iopub.status.idle": "2021-02-22T22:54:34.938993Z",
     "shell.execute_reply": "2021-02-22T22:54:34.938414Z"
    },
    "papermill": {
     "duration": 0.063424,
     "end_time": "2021-02-22T22:54:34.939175",
     "exception": false,
     "start_time": "2021-02-22T22:54:34.875751",
     "status": "completed"
    },
    "tags": []
   },
   "outputs": [],
   "source": [
    "raw_csv_data = pd.read_csv('../input/heart-disease-prediction-using-logistic-regression/framingham.csv')"
   ]
  },
  {
   "cell_type": "code",
   "execution_count": 3,
   "metadata": {
    "execution": {
     "iopub.execute_input": "2021-02-22T22:54:35.026135Z",
     "iopub.status.busy": "2021-02-22T22:54:35.025449Z",
     "iopub.status.idle": "2021-02-22T22:54:35.059174Z",
     "shell.execute_reply": "2021-02-22T22:54:35.059708Z"
    },
    "papermill": {
     "duration": 0.088481,
     "end_time": "2021-02-22T22:54:35.059879",
     "exception": false,
     "start_time": "2021-02-22T22:54:34.971398",
     "status": "completed"
    },
    "tags": []
   },
   "outputs": [
    {
     "data": {
      "text/html": [
       "<div>\n",
       "<style scoped>\n",
       "    .dataframe tbody tr th:only-of-type {\n",
       "        vertical-align: middle;\n",
       "    }\n",
       "\n",
       "    .dataframe tbody tr th {\n",
       "        vertical-align: top;\n",
       "    }\n",
       "\n",
       "    .dataframe thead th {\n",
       "        text-align: right;\n",
       "    }\n",
       "</style>\n",
       "<table border=\"1\" class=\"dataframe\">\n",
       "  <thead>\n",
       "    <tr style=\"text-align: right;\">\n",
       "      <th></th>\n",
       "      <th>male</th>\n",
       "      <th>age</th>\n",
       "      <th>education</th>\n",
       "      <th>currentSmoker</th>\n",
       "      <th>cigsPerDay</th>\n",
       "      <th>BPMeds</th>\n",
       "      <th>prevalentStroke</th>\n",
       "      <th>prevalentHyp</th>\n",
       "      <th>diabetes</th>\n",
       "      <th>totChol</th>\n",
       "      <th>sysBP</th>\n",
       "      <th>diaBP</th>\n",
       "      <th>BMI</th>\n",
       "      <th>heartRate</th>\n",
       "      <th>glucose</th>\n",
       "      <th>TenYearCHD</th>\n",
       "    </tr>\n",
       "  </thead>\n",
       "  <tbody>\n",
       "    <tr>\n",
       "      <th>0</th>\n",
       "      <td>1</td>\n",
       "      <td>39</td>\n",
       "      <td>4.0</td>\n",
       "      <td>0</td>\n",
       "      <td>0.0</td>\n",
       "      <td>0.0</td>\n",
       "      <td>0</td>\n",
       "      <td>0</td>\n",
       "      <td>0</td>\n",
       "      <td>195.0</td>\n",
       "      <td>106.0</td>\n",
       "      <td>70.0</td>\n",
       "      <td>26.97</td>\n",
       "      <td>80.0</td>\n",
       "      <td>77.0</td>\n",
       "      <td>0</td>\n",
       "    </tr>\n",
       "    <tr>\n",
       "      <th>1</th>\n",
       "      <td>0</td>\n",
       "      <td>46</td>\n",
       "      <td>2.0</td>\n",
       "      <td>0</td>\n",
       "      <td>0.0</td>\n",
       "      <td>0.0</td>\n",
       "      <td>0</td>\n",
       "      <td>0</td>\n",
       "      <td>0</td>\n",
       "      <td>250.0</td>\n",
       "      <td>121.0</td>\n",
       "      <td>81.0</td>\n",
       "      <td>28.73</td>\n",
       "      <td>95.0</td>\n",
       "      <td>76.0</td>\n",
       "      <td>0</td>\n",
       "    </tr>\n",
       "    <tr>\n",
       "      <th>2</th>\n",
       "      <td>1</td>\n",
       "      <td>48</td>\n",
       "      <td>1.0</td>\n",
       "      <td>1</td>\n",
       "      <td>20.0</td>\n",
       "      <td>0.0</td>\n",
       "      <td>0</td>\n",
       "      <td>0</td>\n",
       "      <td>0</td>\n",
       "      <td>245.0</td>\n",
       "      <td>127.5</td>\n",
       "      <td>80.0</td>\n",
       "      <td>25.34</td>\n",
       "      <td>75.0</td>\n",
       "      <td>70.0</td>\n",
       "      <td>0</td>\n",
       "    </tr>\n",
       "    <tr>\n",
       "      <th>3</th>\n",
       "      <td>0</td>\n",
       "      <td>61</td>\n",
       "      <td>3.0</td>\n",
       "      <td>1</td>\n",
       "      <td>30.0</td>\n",
       "      <td>0.0</td>\n",
       "      <td>0</td>\n",
       "      <td>1</td>\n",
       "      <td>0</td>\n",
       "      <td>225.0</td>\n",
       "      <td>150.0</td>\n",
       "      <td>95.0</td>\n",
       "      <td>28.58</td>\n",
       "      <td>65.0</td>\n",
       "      <td>103.0</td>\n",
       "      <td>1</td>\n",
       "    </tr>\n",
       "    <tr>\n",
       "      <th>4</th>\n",
       "      <td>0</td>\n",
       "      <td>46</td>\n",
       "      <td>3.0</td>\n",
       "      <td>1</td>\n",
       "      <td>23.0</td>\n",
       "      <td>0.0</td>\n",
       "      <td>0</td>\n",
       "      <td>0</td>\n",
       "      <td>0</td>\n",
       "      <td>285.0</td>\n",
       "      <td>130.0</td>\n",
       "      <td>84.0</td>\n",
       "      <td>23.10</td>\n",
       "      <td>85.0</td>\n",
       "      <td>85.0</td>\n",
       "      <td>0</td>\n",
       "    </tr>\n",
       "    <tr>\n",
       "      <th>...</th>\n",
       "      <td>...</td>\n",
       "      <td>...</td>\n",
       "      <td>...</td>\n",
       "      <td>...</td>\n",
       "      <td>...</td>\n",
       "      <td>...</td>\n",
       "      <td>...</td>\n",
       "      <td>...</td>\n",
       "      <td>...</td>\n",
       "      <td>...</td>\n",
       "      <td>...</td>\n",
       "      <td>...</td>\n",
       "      <td>...</td>\n",
       "      <td>...</td>\n",
       "      <td>...</td>\n",
       "      <td>...</td>\n",
       "    </tr>\n",
       "    <tr>\n",
       "      <th>4233</th>\n",
       "      <td>1</td>\n",
       "      <td>50</td>\n",
       "      <td>1.0</td>\n",
       "      <td>1</td>\n",
       "      <td>1.0</td>\n",
       "      <td>0.0</td>\n",
       "      <td>0</td>\n",
       "      <td>1</td>\n",
       "      <td>0</td>\n",
       "      <td>313.0</td>\n",
       "      <td>179.0</td>\n",
       "      <td>92.0</td>\n",
       "      <td>25.97</td>\n",
       "      <td>66.0</td>\n",
       "      <td>86.0</td>\n",
       "      <td>1</td>\n",
       "    </tr>\n",
       "    <tr>\n",
       "      <th>4234</th>\n",
       "      <td>1</td>\n",
       "      <td>51</td>\n",
       "      <td>3.0</td>\n",
       "      <td>1</td>\n",
       "      <td>43.0</td>\n",
       "      <td>0.0</td>\n",
       "      <td>0</td>\n",
       "      <td>0</td>\n",
       "      <td>0</td>\n",
       "      <td>207.0</td>\n",
       "      <td>126.5</td>\n",
       "      <td>80.0</td>\n",
       "      <td>19.71</td>\n",
       "      <td>65.0</td>\n",
       "      <td>68.0</td>\n",
       "      <td>0</td>\n",
       "    </tr>\n",
       "    <tr>\n",
       "      <th>4235</th>\n",
       "      <td>0</td>\n",
       "      <td>48</td>\n",
       "      <td>2.0</td>\n",
       "      <td>1</td>\n",
       "      <td>20.0</td>\n",
       "      <td>NaN</td>\n",
       "      <td>0</td>\n",
       "      <td>0</td>\n",
       "      <td>0</td>\n",
       "      <td>248.0</td>\n",
       "      <td>131.0</td>\n",
       "      <td>72.0</td>\n",
       "      <td>22.00</td>\n",
       "      <td>84.0</td>\n",
       "      <td>86.0</td>\n",
       "      <td>0</td>\n",
       "    </tr>\n",
       "    <tr>\n",
       "      <th>4236</th>\n",
       "      <td>0</td>\n",
       "      <td>44</td>\n",
       "      <td>1.0</td>\n",
       "      <td>1</td>\n",
       "      <td>15.0</td>\n",
       "      <td>0.0</td>\n",
       "      <td>0</td>\n",
       "      <td>0</td>\n",
       "      <td>0</td>\n",
       "      <td>210.0</td>\n",
       "      <td>126.5</td>\n",
       "      <td>87.0</td>\n",
       "      <td>19.16</td>\n",
       "      <td>86.0</td>\n",
       "      <td>NaN</td>\n",
       "      <td>0</td>\n",
       "    </tr>\n",
       "    <tr>\n",
       "      <th>4237</th>\n",
       "      <td>0</td>\n",
       "      <td>52</td>\n",
       "      <td>2.0</td>\n",
       "      <td>0</td>\n",
       "      <td>0.0</td>\n",
       "      <td>0.0</td>\n",
       "      <td>0</td>\n",
       "      <td>0</td>\n",
       "      <td>0</td>\n",
       "      <td>269.0</td>\n",
       "      <td>133.5</td>\n",
       "      <td>83.0</td>\n",
       "      <td>21.47</td>\n",
       "      <td>80.0</td>\n",
       "      <td>107.0</td>\n",
       "      <td>0</td>\n",
       "    </tr>\n",
       "  </tbody>\n",
       "</table>\n",
       "<p>4238 rows × 16 columns</p>\n",
       "</div>"
      ],
      "text/plain": [
       "      male  age  education  currentSmoker  cigsPerDay  BPMeds  \\\n",
       "0        1   39        4.0              0         0.0     0.0   \n",
       "1        0   46        2.0              0         0.0     0.0   \n",
       "2        1   48        1.0              1        20.0     0.0   \n",
       "3        0   61        3.0              1        30.0     0.0   \n",
       "4        0   46        3.0              1        23.0     0.0   \n",
       "...    ...  ...        ...            ...         ...     ...   \n",
       "4233     1   50        1.0              1         1.0     0.0   \n",
       "4234     1   51        3.0              1        43.0     0.0   \n",
       "4235     0   48        2.0              1        20.0     NaN   \n",
       "4236     0   44        1.0              1        15.0     0.0   \n",
       "4237     0   52        2.0              0         0.0     0.0   \n",
       "\n",
       "      prevalentStroke  prevalentHyp  diabetes  totChol  sysBP  diaBP    BMI  \\\n",
       "0                   0             0         0    195.0  106.0   70.0  26.97   \n",
       "1                   0             0         0    250.0  121.0   81.0  28.73   \n",
       "2                   0             0         0    245.0  127.5   80.0  25.34   \n",
       "3                   0             1         0    225.0  150.0   95.0  28.58   \n",
       "4                   0             0         0    285.0  130.0   84.0  23.10   \n",
       "...               ...           ...       ...      ...    ...    ...    ...   \n",
       "4233                0             1         0    313.0  179.0   92.0  25.97   \n",
       "4234                0             0         0    207.0  126.5   80.0  19.71   \n",
       "4235                0             0         0    248.0  131.0   72.0  22.00   \n",
       "4236                0             0         0    210.0  126.5   87.0  19.16   \n",
       "4237                0             0         0    269.0  133.5   83.0  21.47   \n",
       "\n",
       "      heartRate  glucose  TenYearCHD  \n",
       "0          80.0     77.0           0  \n",
       "1          95.0     76.0           0  \n",
       "2          75.0     70.0           0  \n",
       "3          65.0    103.0           1  \n",
       "4          85.0     85.0           0  \n",
       "...         ...      ...         ...  \n",
       "4233       66.0     86.0           1  \n",
       "4234       65.0     68.0           0  \n",
       "4235       84.0     86.0           0  \n",
       "4236       86.0      NaN           0  \n",
       "4237       80.0    107.0           0  \n",
       "\n",
       "[4238 rows x 16 columns]"
      ]
     },
     "execution_count": 3,
     "metadata": {},
     "output_type": "execute_result"
    }
   ],
   "source": [
    "raw_csv_data"
   ]
  },
  {
   "cell_type": "code",
   "execution_count": 4,
   "metadata": {
    "execution": {
     "iopub.execute_input": "2021-02-22T22:54:35.130210Z",
     "iopub.status.busy": "2021-02-22T22:54:35.129564Z",
     "iopub.status.idle": "2021-02-22T22:54:35.134459Z",
     "shell.execute_reply": "2021-02-22T22:54:35.133817Z"
    },
    "papermill": {
     "duration": 0.040749,
     "end_time": "2021-02-22T22:54:35.134603",
     "exception": false,
     "start_time": "2021-02-22T22:54:35.093854",
     "status": "completed"
    },
    "tags": []
   },
   "outputs": [],
   "source": [
    "df = raw_csv_data.copy()"
   ]
  },
  {
   "cell_type": "code",
   "execution_count": 5,
   "metadata": {
    "execution": {
     "iopub.execute_input": "2021-02-22T22:54:35.213210Z",
     "iopub.status.busy": "2021-02-22T22:54:35.212534Z",
     "iopub.status.idle": "2021-02-22T22:54:35.226359Z",
     "shell.execute_reply": "2021-02-22T22:54:35.225784Z"
    },
    "papermill": {
     "duration": 0.058861,
     "end_time": "2021-02-22T22:54:35.226503",
     "exception": false,
     "start_time": "2021-02-22T22:54:35.167642",
     "status": "completed"
    },
    "tags": []
   },
   "outputs": [
    {
     "data": {
      "text/html": [
       "<div>\n",
       "<style scoped>\n",
       "    .dataframe tbody tr th:only-of-type {\n",
       "        vertical-align: middle;\n",
       "    }\n",
       "\n",
       "    .dataframe tbody tr th {\n",
       "        vertical-align: top;\n",
       "    }\n",
       "\n",
       "    .dataframe thead th {\n",
       "        text-align: right;\n",
       "    }\n",
       "</style>\n",
       "<table border=\"1\" class=\"dataframe\">\n",
       "  <thead>\n",
       "    <tr style=\"text-align: right;\">\n",
       "      <th></th>\n",
       "      <th>male</th>\n",
       "      <th>age</th>\n",
       "      <th>education</th>\n",
       "      <th>currentSmoker</th>\n",
       "      <th>cigsPerDay</th>\n",
       "      <th>BPMeds</th>\n",
       "      <th>prevalentStroke</th>\n",
       "      <th>prevalentHyp</th>\n",
       "      <th>diabetes</th>\n",
       "      <th>totChol</th>\n",
       "      <th>sysBP</th>\n",
       "      <th>diaBP</th>\n",
       "      <th>BMI</th>\n",
       "      <th>heartRate</th>\n",
       "      <th>glucose</th>\n",
       "      <th>TenYearCHD</th>\n",
       "    </tr>\n",
       "  </thead>\n",
       "  <tbody>\n",
       "    <tr>\n",
       "      <th>0</th>\n",
       "      <td>1</td>\n",
       "      <td>39</td>\n",
       "      <td>4.0</td>\n",
       "      <td>0</td>\n",
       "      <td>0.0</td>\n",
       "      <td>0.0</td>\n",
       "      <td>0</td>\n",
       "      <td>0</td>\n",
       "      <td>0</td>\n",
       "      <td>195.0</td>\n",
       "      <td>106.0</td>\n",
       "      <td>70.0</td>\n",
       "      <td>26.97</td>\n",
       "      <td>80.0</td>\n",
       "      <td>77.0</td>\n",
       "      <td>0</td>\n",
       "    </tr>\n",
       "    <tr>\n",
       "      <th>1</th>\n",
       "      <td>0</td>\n",
       "      <td>46</td>\n",
       "      <td>2.0</td>\n",
       "      <td>0</td>\n",
       "      <td>0.0</td>\n",
       "      <td>0.0</td>\n",
       "      <td>0</td>\n",
       "      <td>0</td>\n",
       "      <td>0</td>\n",
       "      <td>250.0</td>\n",
       "      <td>121.0</td>\n",
       "      <td>81.0</td>\n",
       "      <td>28.73</td>\n",
       "      <td>95.0</td>\n",
       "      <td>76.0</td>\n",
       "      <td>0</td>\n",
       "    </tr>\n",
       "    <tr>\n",
       "      <th>2</th>\n",
       "      <td>1</td>\n",
       "      <td>48</td>\n",
       "      <td>1.0</td>\n",
       "      <td>1</td>\n",
       "      <td>20.0</td>\n",
       "      <td>0.0</td>\n",
       "      <td>0</td>\n",
       "      <td>0</td>\n",
       "      <td>0</td>\n",
       "      <td>245.0</td>\n",
       "      <td>127.5</td>\n",
       "      <td>80.0</td>\n",
       "      <td>25.34</td>\n",
       "      <td>75.0</td>\n",
       "      <td>70.0</td>\n",
       "      <td>0</td>\n",
       "    </tr>\n",
       "    <tr>\n",
       "      <th>3</th>\n",
       "      <td>0</td>\n",
       "      <td>61</td>\n",
       "      <td>3.0</td>\n",
       "      <td>1</td>\n",
       "      <td>30.0</td>\n",
       "      <td>0.0</td>\n",
       "      <td>0</td>\n",
       "      <td>1</td>\n",
       "      <td>0</td>\n",
       "      <td>225.0</td>\n",
       "      <td>150.0</td>\n",
       "      <td>95.0</td>\n",
       "      <td>28.58</td>\n",
       "      <td>65.0</td>\n",
       "      <td>103.0</td>\n",
       "      <td>1</td>\n",
       "    </tr>\n",
       "    <tr>\n",
       "      <th>4</th>\n",
       "      <td>0</td>\n",
       "      <td>46</td>\n",
       "      <td>3.0</td>\n",
       "      <td>1</td>\n",
       "      <td>23.0</td>\n",
       "      <td>0.0</td>\n",
       "      <td>0</td>\n",
       "      <td>0</td>\n",
       "      <td>0</td>\n",
       "      <td>285.0</td>\n",
       "      <td>130.0</td>\n",
       "      <td>84.0</td>\n",
       "      <td>23.10</td>\n",
       "      <td>85.0</td>\n",
       "      <td>85.0</td>\n",
       "      <td>0</td>\n",
       "    </tr>\n",
       "  </tbody>\n",
       "</table>\n",
       "</div>"
      ],
      "text/plain": [
       "   male  age  education  currentSmoker  cigsPerDay  BPMeds  prevalentStroke  \\\n",
       "0     1   39        4.0              0         0.0     0.0                0   \n",
       "1     0   46        2.0              0         0.0     0.0                0   \n",
       "2     1   48        1.0              1        20.0     0.0                0   \n",
       "3     0   61        3.0              1        30.0     0.0                0   \n",
       "4     0   46        3.0              1        23.0     0.0                0   \n",
       "\n",
       "   prevalentHyp  diabetes  totChol  sysBP  diaBP    BMI  heartRate  glucose  \\\n",
       "0             0         0    195.0  106.0   70.0  26.97       80.0     77.0   \n",
       "1             0         0    250.0  121.0   81.0  28.73       95.0     76.0   \n",
       "2             0         0    245.0  127.5   80.0  25.34       75.0     70.0   \n",
       "3             1         0    225.0  150.0   95.0  28.58       65.0    103.0   \n",
       "4             0         0    285.0  130.0   84.0  23.10       85.0     85.0   \n",
       "\n",
       "   TenYearCHD  \n",
       "0           0  \n",
       "1           0  \n",
       "2           0  \n",
       "3           1  \n",
       "4           0  "
      ]
     },
     "execution_count": 5,
     "metadata": {},
     "output_type": "execute_result"
    }
   ],
   "source": [
    "df.head(5)"
   ]
  },
  {
   "cell_type": "code",
   "execution_count": 6,
   "metadata": {
    "execution": {
     "iopub.execute_input": "2021-02-22T22:54:35.300095Z",
     "iopub.status.busy": "2021-02-22T22:54:35.299179Z",
     "iopub.status.idle": "2021-02-22T22:54:35.302450Z",
     "shell.execute_reply": "2021-02-22T22:54:35.301809Z"
    },
    "papermill": {
     "duration": 0.041982,
     "end_time": "2021-02-22T22:54:35.302592",
     "exception": false,
     "start_time": "2021-02-22T22:54:35.260610",
     "status": "completed"
    },
    "tags": []
   },
   "outputs": [],
   "source": [
    " ## Diplaying all the columns, None means set no maximum value\n",
    "pd.options.display.max_columns = None\n",
    "pd.options.display.max_rows = None"
   ]
  },
  {
   "cell_type": "code",
   "execution_count": 7,
   "metadata": {
    "execution": {
     "iopub.execute_input": "2021-02-22T22:54:35.374907Z",
     "iopub.status.busy": "2021-02-22T22:54:35.374271Z",
     "iopub.status.idle": "2021-02-22T22:54:35.377196Z",
     "shell.execute_reply": "2021-02-22T22:54:35.376624Z"
    },
    "papermill": {
     "duration": 0.040632,
     "end_time": "2021-02-22T22:54:35.377347",
     "exception": false,
     "start_time": "2021-02-22T22:54:35.336715",
     "status": "completed"
    },
    "tags": []
   },
   "outputs": [],
   "source": [
    "## display(raw_csv_data)"
   ]
  },
  {
   "cell_type": "code",
   "execution_count": 8,
   "metadata": {
    "execution": {
     "iopub.execute_input": "2021-02-22T22:54:35.449250Z",
     "iopub.status.busy": "2021-02-22T22:54:35.448616Z",
     "iopub.status.idle": "2021-02-22T22:54:35.451161Z",
     "shell.execute_reply": "2021-02-22T22:54:35.451746Z"
    },
    "papermill": {
     "duration": 0.040649,
     "end_time": "2021-02-22T22:54:35.451904",
     "exception": false,
     "start_time": "2021-02-22T22:54:35.411255",
     "status": "completed"
    },
    "tags": []
   },
   "outputs": [],
   "source": [
    "## display(df)"
   ]
  },
  {
   "cell_type": "code",
   "execution_count": 9,
   "metadata": {
    "execution": {
     "iopub.execute_input": "2021-02-22T22:54:35.522941Z",
     "iopub.status.busy": "2021-02-22T22:54:35.522316Z",
     "iopub.status.idle": "2021-02-22T22:54:35.541722Z",
     "shell.execute_reply": "2021-02-22T22:54:35.541213Z"
    },
    "papermill": {
     "duration": 0.056371,
     "end_time": "2021-02-22T22:54:35.541899",
     "exception": false,
     "start_time": "2021-02-22T22:54:35.485528",
     "status": "completed"
    },
    "tags": []
   },
   "outputs": [
    {
     "name": "stdout",
     "output_type": "stream",
     "text": [
      "<class 'pandas.core.frame.DataFrame'>\n",
      "RangeIndex: 4238 entries, 0 to 4237\n",
      "Data columns (total 16 columns):\n",
      " #   Column           Non-Null Count  Dtype  \n",
      "---  ------           --------------  -----  \n",
      " 0   male             4238 non-null   int64  \n",
      " 1   age              4238 non-null   int64  \n",
      " 2   education        4133 non-null   float64\n",
      " 3   currentSmoker    4238 non-null   int64  \n",
      " 4   cigsPerDay       4209 non-null   float64\n",
      " 5   BPMeds           4185 non-null   float64\n",
      " 6   prevalentStroke  4238 non-null   int64  \n",
      " 7   prevalentHyp     4238 non-null   int64  \n",
      " 8   diabetes         4238 non-null   int64  \n",
      " 9   totChol          4188 non-null   float64\n",
      " 10  sysBP            4238 non-null   float64\n",
      " 11  diaBP            4238 non-null   float64\n",
      " 12  BMI              4219 non-null   float64\n",
      " 13  heartRate        4237 non-null   float64\n",
      " 14  glucose          3850 non-null   float64\n",
      " 15  TenYearCHD       4238 non-null   int64  \n",
      "dtypes: float64(9), int64(7)\n",
      "memory usage: 529.9 KB\n"
     ]
    }
   ],
   "source": [
    "df.info()"
   ]
  },
  {
   "cell_type": "code",
   "execution_count": 10,
   "metadata": {
    "execution": {
     "iopub.execute_input": "2021-02-22T22:54:35.617400Z",
     "iopub.status.busy": "2021-02-22T22:54:35.616181Z",
     "iopub.status.idle": "2021-02-22T22:54:35.621181Z",
     "shell.execute_reply": "2021-02-22T22:54:35.620570Z"
    },
    "papermill": {
     "duration": 0.044849,
     "end_time": "2021-02-22T22:54:35.621330",
     "exception": false,
     "start_time": "2021-02-22T22:54:35.576481",
     "status": "completed"
    },
    "tags": []
   },
   "outputs": [],
   "source": [
    "missing_values_count = df.isnull().sum() ##same as df.info but instead of giving the all info, we can see just missing values"
   ]
  },
  {
   "cell_type": "code",
   "execution_count": 11,
   "metadata": {
    "execution": {
     "iopub.execute_input": "2021-02-22T22:54:35.694760Z",
     "iopub.status.busy": "2021-02-22T22:54:35.693792Z",
     "iopub.status.idle": "2021-02-22T22:54:35.700175Z",
     "shell.execute_reply": "2021-02-22T22:54:35.700665Z"
    },
    "papermill": {
     "duration": 0.044565,
     "end_time": "2021-02-22T22:54:35.700829",
     "exception": false,
     "start_time": "2021-02-22T22:54:35.656264",
     "status": "completed"
    },
    "tags": []
   },
   "outputs": [
    {
     "data": {
      "text/plain": [
       "male                 0\n",
       "age                  0\n",
       "education          105\n",
       "currentSmoker        0\n",
       "cigsPerDay          29\n",
       "BPMeds              53\n",
       "prevalentStroke      0\n",
       "prevalentHyp         0\n",
       "diabetes             0\n",
       "totChol             50\n",
       "sysBP                0\n",
       "diaBP                0\n",
       "BMI                 19\n",
       "heartRate            1\n",
       "glucose            388\n",
       "TenYearCHD           0\n",
       "dtype: int64"
      ]
     },
     "execution_count": 11,
     "metadata": {},
     "output_type": "execute_result"
    }
   ],
   "source": [
    "missing_values_count"
   ]
  },
  {
   "cell_type": "markdown",
   "metadata": {
    "papermill": {
     "duration": 0.034899,
     "end_time": "2021-02-22T22:54:35.770638",
     "exception": false,
     "start_time": "2021-02-22T22:54:35.735739",
     "status": "completed"
    },
    "tags": []
   },
   "source": [
    "## Dealing with missing values"
   ]
  },
  {
   "cell_type": "code",
   "execution_count": 12,
   "metadata": {
    "execution": {
     "iopub.execute_input": "2021-02-22T22:54:35.845483Z",
     "iopub.status.busy": "2021-02-22T22:54:35.844532Z",
     "iopub.status.idle": "2021-02-22T22:54:35.849181Z",
     "shell.execute_reply": "2021-02-22T22:54:35.848569Z"
    },
    "papermill": {
     "duration": 0.043679,
     "end_time": "2021-02-22T22:54:35.849325",
     "exception": false,
     "start_time": "2021-02-22T22:54:35.805646",
     "status": "completed"
    },
    "tags": []
   },
   "outputs": [],
   "source": [
    "##Finding how many percent of the data is missing?"
   ]
  },
  {
   "cell_type": "code",
   "execution_count": 13,
   "metadata": {
    "execution": {
     "iopub.execute_input": "2021-02-22T22:54:35.922113Z",
     "iopub.status.busy": "2021-02-22T22:54:35.921509Z",
     "iopub.status.idle": "2021-02-22T22:54:35.927130Z",
     "shell.execute_reply": "2021-02-22T22:54:35.927667Z"
    },
    "papermill": {
     "duration": 0.043452,
     "end_time": "2021-02-22T22:54:35.927845",
     "exception": false,
     "start_time": "2021-02-22T22:54:35.884393",
     "status": "completed"
    },
    "scrolled": true,
    "tags": []
   },
   "outputs": [
    {
     "data": {
      "text/plain": [
       "0.9512151958470976"
      ]
     },
     "execution_count": 13,
     "metadata": {},
     "output_type": "execute_result"
    }
   ],
   "source": [
    "total_cells = np.product(df.shape)\n",
    "total_missing = missing_values_count.sum()\n",
    "\n",
    "# percent of data that is missing\n",
    "percent_missing = (total_missing/total_cells) * 100\n",
    "percent_missing"
   ]
  },
  {
   "cell_type": "code",
   "execution_count": 14,
   "metadata": {
    "execution": {
     "iopub.execute_input": "2021-02-22T22:54:36.003647Z",
     "iopub.status.busy": "2021-02-22T22:54:36.002962Z",
     "iopub.status.idle": "2021-02-22T22:54:36.006188Z",
     "shell.execute_reply": "2021-02-22T22:54:36.006790Z"
    },
    "papermill": {
     "duration": 0.042734,
     "end_time": "2021-02-22T22:54:36.006970",
     "exception": false,
     "start_time": "2021-02-22T22:54:35.964236",
     "status": "completed"
    },
    "tags": []
   },
   "outputs": [],
   "source": [
    "## Decide why the data is missing? It wasn't recorded or it doesn't exist?"
   ]
  },
  {
   "cell_type": "code",
   "execution_count": 15,
   "metadata": {
    "execution": {
     "iopub.execute_input": "2021-02-22T22:54:36.082134Z",
     "iopub.status.busy": "2021-02-22T22:54:36.081544Z",
     "iopub.status.idle": "2021-02-22T22:54:36.087120Z",
     "shell.execute_reply": "2021-02-22T22:54:36.087717Z"
    },
    "papermill": {
     "duration": 0.044494,
     "end_time": "2021-02-22T22:54:36.087879",
     "exception": false,
     "start_time": "2021-02-22T22:54:36.043385",
     "status": "completed"
    },
    "tags": []
   },
   "outputs": [
    {
     "data": {
      "text/plain": [
       "2.4775837659273243"
      ]
     },
     "execution_count": 15,
     "metadata": {},
     "output_type": "execute_result"
    }
   ],
   "source": [
    "percent_missing_edu = (df['education'].isnull().sum() / df.shape[0]) *100\n",
    "percent_missing_edu"
   ]
  },
  {
   "cell_type": "code",
   "execution_count": 16,
   "metadata": {
    "execution": {
     "iopub.execute_input": "2021-02-22T22:54:36.164703Z",
     "iopub.status.busy": "2021-02-22T22:54:36.164033Z",
     "iopub.status.idle": "2021-02-22T22:54:36.173954Z",
     "shell.execute_reply": "2021-02-22T22:54:36.174451Z"
    },
    "papermill": {
     "duration": 0.050452,
     "end_time": "2021-02-22T22:54:36.174623",
     "exception": false,
     "start_time": "2021-02-22T22:54:36.124171",
     "status": "completed"
    },
    "tags": []
   },
   "outputs": [
    {
     "data": {
      "text/plain": [
       "Int64Index([  33,   36,   72,  184,  213,  293,  305,  306,  319,  400,\n",
       "            ...\n",
       "            3764, 3868, 3873, 3943, 4012, 4082, 4098, 4121, 4122, 4138],\n",
       "           dtype='int64', length=105)"
      ]
     },
     "execution_count": 16,
     "metadata": {},
     "output_type": "execute_result"
    }
   ],
   "source": [
    "## Based on the missing education calculation only 2.5% of the education column is  missing and gueesing the people's education level from the medical reports are almost impossible\n",
    "## So, I will drop the missing education data\n",
    "edu_missing = df[df['education'].isnull()].index\n",
    "edu_missing"
   ]
  },
  {
   "cell_type": "code",
   "execution_count": 17,
   "metadata": {
    "execution": {
     "iopub.execute_input": "2021-02-22T22:54:36.253434Z",
     "iopub.status.busy": "2021-02-22T22:54:36.252793Z",
     "iopub.status.idle": "2021-02-22T22:54:36.261472Z",
     "shell.execute_reply": "2021-02-22T22:54:36.262034Z"
    },
    "papermill": {
     "duration": 0.048649,
     "end_time": "2021-02-22T22:54:36.262220",
     "exception": false,
     "start_time": "2021-02-22T22:54:36.213571",
     "status": "completed"
    },
    "tags": []
   },
   "outputs": [
    {
     "data": {
      "text/plain": [
       "male                 0\n",
       "age                  0\n",
       "education            0\n",
       "currentSmoker        0\n",
       "cigsPerDay          27\n",
       "BPMeds              53\n",
       "prevalentStroke      0\n",
       "prevalentHyp         0\n",
       "diabetes             0\n",
       "totChol             49\n",
       "sysBP                0\n",
       "diaBP                0\n",
       "BMI                 18\n",
       "heartRate            1\n",
       "glucose            380\n",
       "TenYearCHD           0\n",
       "dtype: int64"
      ]
     },
     "execution_count": 17,
     "metadata": {},
     "output_type": "execute_result"
    }
   ],
   "source": [
    "df = df.drop(edu_missing)\n",
    "df.isnull().sum()"
   ]
  },
  {
   "cell_type": "code",
   "execution_count": 18,
   "metadata": {
    "execution": {
     "iopub.execute_input": "2021-02-22T22:54:36.340033Z",
     "iopub.status.busy": "2021-02-22T22:54:36.339399Z",
     "iopub.status.idle": "2021-02-22T22:54:36.343573Z",
     "shell.execute_reply": "2021-02-22T22:54:36.343022Z"
    },
    "papermill": {
     "duration": 0.044096,
     "end_time": "2021-02-22T22:54:36.343722",
     "exception": false,
     "start_time": "2021-02-22T22:54:36.299626",
     "status": "completed"
    },
    "tags": []
   },
   "outputs": [],
   "source": [
    "## cigsPerDay can be both, so I will check if the same index of the missing data current smoker or not,\n",
    "## if not null data will fill with 0, or median"
   ]
  },
  {
   "cell_type": "code",
   "execution_count": 19,
   "metadata": {
    "execution": {
     "iopub.execute_input": "2021-02-22T22:54:36.426267Z",
     "iopub.status.busy": "2021-02-22T22:54:36.425277Z",
     "iopub.status.idle": "2021-02-22T22:54:36.429623Z",
     "shell.execute_reply": "2021-02-22T22:54:36.429113Z"
    },
    "papermill": {
     "duration": 0.048337,
     "end_time": "2021-02-22T22:54:36.429750",
     "exception": false,
     "start_time": "2021-02-22T22:54:36.381413",
     "status": "completed"
    },
    "tags": []
   },
   "outputs": [
    {
     "data": {
      "text/plain": [
       "Int64Index([ 131,  139, 1046, 1292, 1347, 1451, 1497, 1610, 1625, 1870, 1963,\n",
       "            1980, 2405, 2513, 3021, 3094, 3106, 3108, 3156, 3177, 3309, 3432,\n",
       "            3579, 3715, 3847, 3924, 3942],\n",
       "           dtype='int64')"
      ]
     },
     "execution_count": 19,
     "metadata": {},
     "output_type": "execute_result"
    }
   ],
   "source": [
    "cigarette_index = df[df['cigsPerDay'].isnull()].index\n",
    "cigarette_index"
   ]
  },
  {
   "cell_type": "code",
   "execution_count": 20,
   "metadata": {
    "execution": {
     "iopub.execute_input": "2021-02-22T22:54:36.512545Z",
     "iopub.status.busy": "2021-02-22T22:54:36.510308Z",
     "iopub.status.idle": "2021-02-22T22:54:36.514535Z",
     "shell.execute_reply": "2021-02-22T22:54:36.515123Z"
    },
    "papermill": {
     "duration": 0.047748,
     "end_time": "2021-02-22T22:54:36.515289",
     "exception": false,
     "start_time": "2021-02-22T22:54:36.467541",
     "status": "completed"
    },
    "tags": []
   },
   "outputs": [],
   "source": [
    "## I will check if every missing value from cigsPerDay are actually currentSmoker?\n",
    "current_smoke_status = []\n",
    "for i in cigarette_index:\n",
    "   current_smoke_status.append(df['currentSmoker'][i])"
   ]
  },
  {
   "cell_type": "code",
   "execution_count": 21,
   "metadata": {
    "execution": {
     "iopub.execute_input": "2021-02-22T22:54:36.595159Z",
     "iopub.status.busy": "2021-02-22T22:54:36.594556Z",
     "iopub.status.idle": "2021-02-22T22:54:36.599471Z",
     "shell.execute_reply": "2021-02-22T22:54:36.599955Z"
    },
    "papermill": {
     "duration": 0.046739,
     "end_time": "2021-02-22T22:54:36.600141",
     "exception": false,
     "start_time": "2021-02-22T22:54:36.553402",
     "status": "completed"
    },
    "tags": []
   },
   "outputs": [
    {
     "data": {
      "text/plain": [
       "[1,\n",
       " 1,\n",
       " 1,\n",
       " 1,\n",
       " 1,\n",
       " 1,\n",
       " 1,\n",
       " 1,\n",
       " 1,\n",
       " 1,\n",
       " 1,\n",
       " 1,\n",
       " 1,\n",
       " 1,\n",
       " 1,\n",
       " 1,\n",
       " 1,\n",
       " 1,\n",
       " 1,\n",
       " 1,\n",
       " 1,\n",
       " 1,\n",
       " 1,\n",
       " 1,\n",
       " 1,\n",
       " 1,\n",
       " 1]"
      ]
     },
     "execution_count": 21,
     "metadata": {},
     "output_type": "execute_result"
    }
   ],
   "source": [
    "current_smoke_status  \n"
   ]
  },
  {
   "cell_type": "code",
   "execution_count": 22,
   "metadata": {
    "execution": {
     "iopub.execute_input": "2021-02-22T22:54:36.682780Z",
     "iopub.status.busy": "2021-02-22T22:54:36.682197Z",
     "iopub.status.idle": "2021-02-22T22:54:36.703825Z",
     "shell.execute_reply": "2021-02-22T22:54:36.703140Z"
    },
    "papermill": {
     "duration": 0.06501,
     "end_time": "2021-02-22T22:54:36.703970",
     "exception": false,
     "start_time": "2021-02-22T22:54:36.638960",
     "status": "completed"
    },
    "tags": []
   },
   "outputs": [
    {
     "data": {
      "text/plain": [
       "Int64Index([   2,    3,    4,    7,    9,   12,   14,   15,   16,   17,\n",
       "            ...\n",
       "            4216, 4224, 4225, 4227, 4229, 4230, 4233, 4234, 4235, 4236],\n",
       "           dtype='int64', length=2045)"
      ]
     },
     "execution_count": 22,
     "metadata": {},
     "output_type": "execute_result"
    }
   ],
   "source": [
    "smokers = df[df['currentSmoker'] == 1].index\n",
    "smokers"
   ]
  },
  {
   "cell_type": "markdown",
   "metadata": {
    "papermill": {
     "duration": 0.038065,
     "end_time": "2021-02-22T22:54:36.780925",
     "exception": false,
     "start_time": "2021-02-22T22:54:36.742860",
     "status": "completed"
    },
    "tags": []
   },
   "source": [
    "I will create a cigarettes array using smokers indeces. So, I will get the median only from smokers (almost half of the participants are non smokers, reduces the mean( Median turns 0 without checking only smokers)"
   ]
  },
  {
   "cell_type": "code",
   "execution_count": 23,
   "metadata": {
    "execution": {
     "iopub.execute_input": "2021-02-22T22:54:36.884030Z",
     "iopub.status.busy": "2021-02-22T22:54:36.878661Z",
     "iopub.status.idle": "2021-02-22T22:54:36.925915Z",
     "shell.execute_reply": "2021-02-22T22:54:36.925322Z"
    },
    "papermill": {
     "duration": 0.106601,
     "end_time": "2021-02-22T22:54:36.926076",
     "exception": false,
     "start_time": "2021-02-22T22:54:36.819475",
     "status": "completed"
    },
    "tags": []
   },
   "outputs": [],
   "source": [
    "cigarettes_by_smokers = []\n",
    "for i in smokers:\n",
    "     if df['cigsPerDay'][i] != 'nan':\n",
    "        cigarettes_by_smokers.append(df['cigsPerDay'][i])"
   ]
  },
  {
   "cell_type": "code",
   "execution_count": 24,
   "metadata": {
    "execution": {
     "iopub.execute_input": "2021-02-22T22:54:37.009632Z",
     "iopub.status.busy": "2021-02-22T22:54:37.008649Z",
     "iopub.status.idle": "2021-02-22T22:54:37.012351Z",
     "shell.execute_reply": "2021-02-22T22:54:37.011852Z"
    },
    "papermill": {
     "duration": 0.047639,
     "end_time": "2021-02-22T22:54:37.012508",
     "exception": false,
     "start_time": "2021-02-22T22:54:36.964869",
     "status": "completed"
    },
    "tags": []
   },
   "outputs": [
    {
     "data": {
      "text/plain": [
       "2045"
      ]
     },
     "execution_count": 24,
     "metadata": {},
     "output_type": "execute_result"
    }
   ],
   "source": [
    "len(cigarettes_by_smokers)"
   ]
  },
  {
   "cell_type": "code",
   "execution_count": 25,
   "metadata": {
    "execution": {
     "iopub.execute_input": "2021-02-22T22:54:37.095570Z",
     "iopub.status.busy": "2021-02-22T22:54:37.094888Z",
     "iopub.status.idle": "2021-02-22T22:54:37.101094Z",
     "shell.execute_reply": "2021-02-22T22:54:37.100562Z"
    },
    "papermill": {
     "duration": 0.049416,
     "end_time": "2021-02-22T22:54:37.101228",
     "exception": false,
     "start_time": "2021-02-22T22:54:37.051812",
     "status": "completed"
    },
    "tags": []
   },
   "outputs": [],
   "source": [
    "import statistics"
   ]
  },
  {
   "cell_type": "code",
   "execution_count": 26,
   "metadata": {
    "execution": {
     "iopub.execute_input": "2021-02-22T22:54:37.188640Z",
     "iopub.status.busy": "2021-02-22T22:54:37.187796Z",
     "iopub.status.idle": "2021-02-22T22:54:37.192084Z",
     "shell.execute_reply": "2021-02-22T22:54:37.192533Z"
    },
    "papermill": {
     "duration": 0.051558,
     "end_time": "2021-02-22T22:54:37.192700",
     "exception": false,
     "start_time": "2021-02-22T22:54:37.141142",
     "status": "completed"
    },
    "tags": []
   },
   "outputs": [
    {
     "data": {
      "text/plain": [
       "20.0"
      ]
     },
     "execution_count": 26,
     "metadata": {},
     "output_type": "execute_result"
    }
   ],
   "source": [
    "smoker_median = statistics.median(cigarettes_by_smokers)\n",
    "smoker_median"
   ]
  },
  {
   "cell_type": "code",
   "execution_count": 27,
   "metadata": {
    "execution": {
     "iopub.execute_input": "2021-02-22T22:54:37.278771Z",
     "iopub.status.busy": "2021-02-22T22:54:37.278169Z",
     "iopub.status.idle": "2021-02-22T22:54:37.281036Z",
     "shell.execute_reply": "2021-02-22T22:54:37.280535Z"
    },
    "papermill": {
     "duration": 0.048111,
     "end_time": "2021-02-22T22:54:37.281185",
     "exception": false,
     "start_time": "2021-02-22T22:54:37.233074",
     "status": "completed"
    },
    "tags": []
   },
   "outputs": [],
   "source": [
    "## All of the missing values in cigsPerDay actually current smokers so, i will replace missing values with mean\n",
    "df['cigsPerDay'] = df['cigsPerDay'].fillna(smoker_median)"
   ]
  },
  {
   "cell_type": "markdown",
   "metadata": {
    "papermill": {
     "duration": 0.039822,
     "end_time": "2021-02-22T22:54:37.361321",
     "exception": false,
     "start_time": "2021-02-22T22:54:37.321499",
     "status": "completed"
    },
    "tags": []
   },
   "source": [
    "When I only use smoker_mean = round(df['cigsPerDay'].mean()) result was 9, because it was including non-smokers as well. I think this one makes more sense"
   ]
  },
  {
   "cell_type": "code",
   "execution_count": 28,
   "metadata": {
    "execution": {
     "iopub.execute_input": "2021-02-22T22:54:37.449496Z",
     "iopub.status.busy": "2021-02-22T22:54:37.448823Z",
     "iopub.status.idle": "2021-02-22T22:54:37.452981Z",
     "shell.execute_reply": "2021-02-22T22:54:37.452344Z"
    },
    "papermill": {
     "duration": 0.051371,
     "end_time": "2021-02-22T22:54:37.453142",
     "exception": false,
     "start_time": "2021-02-22T22:54:37.401771",
     "status": "completed"
    },
    "tags": []
   },
   "outputs": [
    {
     "data": {
      "text/plain": [
       "male                 0\n",
       "age                  0\n",
       "education            0\n",
       "currentSmoker        0\n",
       "cigsPerDay           0\n",
       "BPMeds              53\n",
       "prevalentStroke      0\n",
       "prevalentHyp         0\n",
       "diabetes             0\n",
       "totChol             49\n",
       "sysBP                0\n",
       "diaBP                0\n",
       "BMI                 18\n",
       "heartRate            1\n",
       "glucose            380\n",
       "TenYearCHD           0\n",
       "dtype: int64"
      ]
     },
     "execution_count": 28,
     "metadata": {},
     "output_type": "execute_result"
    }
   ],
   "source": [
    "df.isnull().sum()"
   ]
  },
  {
   "cell_type": "code",
   "execution_count": 29,
   "metadata": {
    "execution": {
     "iopub.execute_input": "2021-02-22T22:54:37.542491Z",
     "iopub.status.busy": "2021-02-22T22:54:37.541638Z",
     "iopub.status.idle": "2021-02-22T22:54:37.545401Z",
     "shell.execute_reply": "2021-02-22T22:54:37.545830Z"
    },
    "papermill": {
     "duration": 0.052097,
     "end_time": "2021-02-22T22:54:37.546045",
     "exception": false,
     "start_time": "2021-02-22T22:54:37.493948",
     "status": "completed"
    },
    "tags": []
   },
   "outputs": [
    {
     "data": {
      "text/plain": [
       "Int64Index([  49,   77,  193,  245,  314,  395,  421,  765,  769,  797,  998,\n",
       "            1002, 1044, 1104, 1122, 1177, 1206, 1284, 1301, 1566, 1573, 1616,\n",
       "            1721, 1857, 1861, 1913, 1983, 1985, 1986, 2002, 2074, 2120, 2173,\n",
       "            2181, 2367, 2608, 2645, 2738, 2835, 2943, 3226, 3313, 3373, 3375,\n",
       "            3526, 3644, 3737, 3791, 3816, 4008, 4139, 4162, 4235],\n",
       "           dtype='int64')"
      ]
     },
     "execution_count": 29,
     "metadata": {},
     "output_type": "execute_result"
    }
   ],
   "source": [
    "## BPMed missing values: I made some research on Google, so if your blood pressure is higher than 140-90 \n",
    "## Doctors are recommending to take BPMed. So, I will check if sysBP is higher than 140 and/or diaBP is higher \n",
    "## than 90, if so I will switch NaN values to 1 or 0\n",
    "\n",
    "BP_missing_index = df[df['BPMeds'].isnull()].index\n",
    "BP_missing_index"
   ]
  },
  {
   "cell_type": "code",
   "execution_count": 30,
   "metadata": {
    "execution": {
     "iopub.execute_input": "2021-02-22T22:54:37.654494Z",
     "iopub.status.busy": "2021-02-22T22:54:37.653490Z",
     "iopub.status.idle": "2021-02-22T22:54:37.656427Z",
     "shell.execute_reply": "2021-02-22T22:54:37.656874Z"
    },
    "papermill": {
     "duration": 0.069592,
     "end_time": "2021-02-22T22:54:37.657084",
     "exception": false,
     "start_time": "2021-02-22T22:54:37.587492",
     "status": "completed"
    },
    "tags": []
   },
   "outputs": [],
   "source": [
    "for i in BP_missing_index:\n",
    "    if ( df['sysBP'][i] > 140 or df['diaBP'][i] > 90 ):\n",
    "        df.loc[i,'BPMeds'] = 1.0  \n",
    "    else:\n",
    "        df.loc[i,'BPMeds'] = 0.0"
   ]
  },
  {
   "cell_type": "code",
   "execution_count": 31,
   "metadata": {
    "execution": {
     "iopub.execute_input": "2021-02-22T22:54:37.745522Z",
     "iopub.status.busy": "2021-02-22T22:54:37.744523Z",
     "iopub.status.idle": "2021-02-22T22:54:37.751959Z",
     "shell.execute_reply": "2021-02-22T22:54:37.751404Z"
    },
    "papermill": {
     "duration": 0.053523,
     "end_time": "2021-02-22T22:54:37.752108",
     "exception": false,
     "start_time": "2021-02-22T22:54:37.698585",
     "status": "completed"
    },
    "scrolled": true,
    "tags": []
   },
   "outputs": [
    {
     "data": {
      "text/plain": [
       "male                 0\n",
       "age                  0\n",
       "education            0\n",
       "currentSmoker        0\n",
       "cigsPerDay           0\n",
       "BPMeds               0\n",
       "prevalentStroke      0\n",
       "prevalentHyp         0\n",
       "diabetes             0\n",
       "totChol             49\n",
       "sysBP                0\n",
       "diaBP                0\n",
       "BMI                 18\n",
       "heartRate            1\n",
       "glucose            380\n",
       "TenYearCHD           0\n",
       "dtype: int64"
      ]
     },
     "execution_count": 31,
     "metadata": {},
     "output_type": "execute_result"
    }
   ],
   "source": [
    "df.isnull().sum()"
   ]
  },
  {
   "cell_type": "markdown",
   "metadata": {
    "papermill": {
     "duration": 0.041949,
     "end_time": "2021-02-22T22:54:37.835644",
     "exception": false,
     "start_time": "2021-02-22T22:54:37.793695",
     "status": "completed"
    },
    "tags": []
   },
   "source": [
    "### Checkpoint 1"
   ]
  },
  {
   "cell_type": "code",
   "execution_count": 32,
   "metadata": {
    "execution": {
     "iopub.execute_input": "2021-02-22T22:54:37.924897Z",
     "iopub.status.busy": "2021-02-22T22:54:37.924126Z",
     "iopub.status.idle": "2021-02-22T22:54:37.928084Z",
     "shell.execute_reply": "2021-02-22T22:54:37.927447Z"
    },
    "papermill": {
     "duration": 0.050248,
     "end_time": "2021-02-22T22:54:37.928251",
     "exception": false,
     "start_time": "2021-02-22T22:54:37.878003",
     "status": "completed"
    },
    "tags": []
   },
   "outputs": [],
   "source": [
    "df_1 = df.copy()"
   ]
  },
  {
   "cell_type": "code",
   "execution_count": 33,
   "metadata": {
    "execution": {
     "iopub.execute_input": "2021-02-22T22:54:38.034859Z",
     "iopub.status.busy": "2021-02-22T22:54:38.034216Z",
     "iopub.status.idle": "2021-02-22T22:54:38.038757Z",
     "shell.execute_reply": "2021-02-22T22:54:38.038250Z"
    },
    "papermill": {
     "duration": 0.068082,
     "end_time": "2021-02-22T22:54:38.038889",
     "exception": false,
     "start_time": "2021-02-22T22:54:37.970807",
     "status": "completed"
    },
    "tags": []
   },
   "outputs": [
    {
     "data": {
      "text/html": [
       "<div>\n",
       "<style scoped>\n",
       "    .dataframe tbody tr th:only-of-type {\n",
       "        vertical-align: middle;\n",
       "    }\n",
       "\n",
       "    .dataframe tbody tr th {\n",
       "        vertical-align: top;\n",
       "    }\n",
       "\n",
       "    .dataframe thead th {\n",
       "        text-align: right;\n",
       "    }\n",
       "</style>\n",
       "<table border=\"1\" class=\"dataframe\">\n",
       "  <thead>\n",
       "    <tr style=\"text-align: right;\">\n",
       "      <th></th>\n",
       "      <th>male</th>\n",
       "      <th>age</th>\n",
       "      <th>education</th>\n",
       "      <th>currentSmoker</th>\n",
       "      <th>cigsPerDay</th>\n",
       "      <th>BPMeds</th>\n",
       "      <th>prevalentStroke</th>\n",
       "      <th>prevalentHyp</th>\n",
       "      <th>diabetes</th>\n",
       "      <th>totChol</th>\n",
       "      <th>sysBP</th>\n",
       "      <th>diaBP</th>\n",
       "      <th>BMI</th>\n",
       "      <th>heartRate</th>\n",
       "      <th>glucose</th>\n",
       "      <th>TenYearCHD</th>\n",
       "    </tr>\n",
       "  </thead>\n",
       "  <tbody>\n",
       "    <tr>\n",
       "      <th>0</th>\n",
       "      <td>1</td>\n",
       "      <td>39</td>\n",
       "      <td>4.0</td>\n",
       "      <td>0</td>\n",
       "      <td>0.0</td>\n",
       "      <td>0.0</td>\n",
       "      <td>0</td>\n",
       "      <td>0</td>\n",
       "      <td>0</td>\n",
       "      <td>195.0</td>\n",
       "      <td>106.0</td>\n",
       "      <td>70.0</td>\n",
       "      <td>26.97</td>\n",
       "      <td>80.0</td>\n",
       "      <td>77.0</td>\n",
       "      <td>0</td>\n",
       "    </tr>\n",
       "    <tr>\n",
       "      <th>1</th>\n",
       "      <td>0</td>\n",
       "      <td>46</td>\n",
       "      <td>2.0</td>\n",
       "      <td>0</td>\n",
       "      <td>0.0</td>\n",
       "      <td>0.0</td>\n",
       "      <td>0</td>\n",
       "      <td>0</td>\n",
       "      <td>0</td>\n",
       "      <td>250.0</td>\n",
       "      <td>121.0</td>\n",
       "      <td>81.0</td>\n",
       "      <td>28.73</td>\n",
       "      <td>95.0</td>\n",
       "      <td>76.0</td>\n",
       "      <td>0</td>\n",
       "    </tr>\n",
       "    <tr>\n",
       "      <th>2</th>\n",
       "      <td>1</td>\n",
       "      <td>48</td>\n",
       "      <td>1.0</td>\n",
       "      <td>1</td>\n",
       "      <td>20.0</td>\n",
       "      <td>0.0</td>\n",
       "      <td>0</td>\n",
       "      <td>0</td>\n",
       "      <td>0</td>\n",
       "      <td>245.0</td>\n",
       "      <td>127.5</td>\n",
       "      <td>80.0</td>\n",
       "      <td>25.34</td>\n",
       "      <td>75.0</td>\n",
       "      <td>70.0</td>\n",
       "      <td>0</td>\n",
       "    </tr>\n",
       "    <tr>\n",
       "      <th>3</th>\n",
       "      <td>0</td>\n",
       "      <td>61</td>\n",
       "      <td>3.0</td>\n",
       "      <td>1</td>\n",
       "      <td>30.0</td>\n",
       "      <td>0.0</td>\n",
       "      <td>0</td>\n",
       "      <td>1</td>\n",
       "      <td>0</td>\n",
       "      <td>225.0</td>\n",
       "      <td>150.0</td>\n",
       "      <td>95.0</td>\n",
       "      <td>28.58</td>\n",
       "      <td>65.0</td>\n",
       "      <td>103.0</td>\n",
       "      <td>1</td>\n",
       "    </tr>\n",
       "    <tr>\n",
       "      <th>4</th>\n",
       "      <td>0</td>\n",
       "      <td>46</td>\n",
       "      <td>3.0</td>\n",
       "      <td>1</td>\n",
       "      <td>23.0</td>\n",
       "      <td>0.0</td>\n",
       "      <td>0</td>\n",
       "      <td>0</td>\n",
       "      <td>0</td>\n",
       "      <td>285.0</td>\n",
       "      <td>130.0</td>\n",
       "      <td>84.0</td>\n",
       "      <td>23.10</td>\n",
       "      <td>85.0</td>\n",
       "      <td>85.0</td>\n",
       "      <td>0</td>\n",
       "    </tr>\n",
       "  </tbody>\n",
       "</table>\n",
       "</div>"
      ],
      "text/plain": [
       "   male  age  education  currentSmoker  cigsPerDay  BPMeds  prevalentStroke  \\\n",
       "0     1   39        4.0              0         0.0     0.0                0   \n",
       "1     0   46        2.0              0         0.0     0.0                0   \n",
       "2     1   48        1.0              1        20.0     0.0                0   \n",
       "3     0   61        3.0              1        30.0     0.0                0   \n",
       "4     0   46        3.0              1        23.0     0.0                0   \n",
       "\n",
       "   prevalentHyp  diabetes  totChol  sysBP  diaBP    BMI  heartRate  glucose  \\\n",
       "0             0         0    195.0  106.0   70.0  26.97       80.0     77.0   \n",
       "1             0         0    250.0  121.0   81.0  28.73       95.0     76.0   \n",
       "2             0         0    245.0  127.5   80.0  25.34       75.0     70.0   \n",
       "3             1         0    225.0  150.0   95.0  28.58       65.0    103.0   \n",
       "4             0         0    285.0  130.0   84.0  23.10       85.0     85.0   \n",
       "\n",
       "   TenYearCHD  \n",
       "0           0  \n",
       "1           0  \n",
       "2           0  \n",
       "3           1  \n",
       "4           0  "
      ]
     },
     "execution_count": 33,
     "metadata": {},
     "output_type": "execute_result"
    }
   ],
   "source": [
    "df_1.head()"
   ]
  },
  {
   "cell_type": "code",
   "execution_count": 34,
   "metadata": {
    "execution": {
     "iopub.execute_input": "2021-02-22T22:54:38.128751Z",
     "iopub.status.busy": "2021-02-22T22:54:38.128127Z",
     "iopub.status.idle": "2021-02-22T22:54:38.131036Z",
     "shell.execute_reply": "2021-02-22T22:54:38.130557Z"
    },
    "papermill": {
     "duration": 0.049754,
     "end_time": "2021-02-22T22:54:38.131182",
     "exception": false,
     "start_time": "2021-02-22T22:54:38.081428",
     "status": "completed"
    },
    "tags": []
   },
   "outputs": [],
   "source": [
    "## I will going fill rest of the NaN value with mean values"
   ]
  },
  {
   "cell_type": "code",
   "execution_count": 35,
   "metadata": {
    "execution": {
     "iopub.execute_input": "2021-02-22T22:54:38.233792Z",
     "iopub.status.busy": "2021-02-22T22:54:38.232616Z",
     "iopub.status.idle": "2021-02-22T22:54:38.237016Z",
     "shell.execute_reply": "2021-02-22T22:54:38.236489Z"
    },
    "papermill": {
     "duration": 0.058157,
     "end_time": "2021-02-22T22:54:38.237284",
     "exception": false,
     "start_time": "2021-02-22T22:54:38.179127",
     "status": "completed"
    },
    "tags": []
   },
   "outputs": [],
   "source": [
    "df_1['totChol'] = df_1['totChol'].fillna(round(df_1['totChol'].mean()))"
   ]
  },
  {
   "cell_type": "code",
   "execution_count": 36,
   "metadata": {
    "execution": {
     "iopub.execute_input": "2021-02-22T22:54:38.346875Z",
     "iopub.status.busy": "2021-02-22T22:54:38.346254Z",
     "iopub.status.idle": "2021-02-22T22:54:38.348162Z",
     "shell.execute_reply": "2021-02-22T22:54:38.348672Z"
    },
    "papermill": {
     "duration": 0.055292,
     "end_time": "2021-02-22T22:54:38.348847",
     "exception": false,
     "start_time": "2021-02-22T22:54:38.293555",
     "status": "completed"
    },
    "tags": []
   },
   "outputs": [],
   "source": [
    "df_1['BMI'] = df_1['BMI'].fillna(df_1['BMI'].mean())"
   ]
  },
  {
   "cell_type": "code",
   "execution_count": 37,
   "metadata": {
    "execution": {
     "iopub.execute_input": "2021-02-22T22:54:38.438002Z",
     "iopub.status.busy": "2021-02-22T22:54:38.437392Z",
     "iopub.status.idle": "2021-02-22T22:54:38.443023Z",
     "shell.execute_reply": "2021-02-22T22:54:38.442469Z"
    },
    "papermill": {
     "duration": 0.051298,
     "end_time": "2021-02-22T22:54:38.443220",
     "exception": false,
     "start_time": "2021-02-22T22:54:38.391922",
     "status": "completed"
    },
    "tags": []
   },
   "outputs": [],
   "source": [
    "df_1['glucose'] = df_1['glucose'].fillna(round(df_1['glucose'].mean()))"
   ]
  },
  {
   "cell_type": "code",
   "execution_count": 38,
   "metadata": {
    "execution": {
     "iopub.execute_input": "2021-02-22T22:54:38.544370Z",
     "iopub.status.busy": "2021-02-22T22:54:38.543687Z",
     "iopub.status.idle": "2021-02-22T22:54:38.546915Z",
     "shell.execute_reply": "2021-02-22T22:54:38.546394Z"
    },
    "papermill": {
     "duration": 0.059863,
     "end_time": "2021-02-22T22:54:38.547108",
     "exception": false,
     "start_time": "2021-02-22T22:54:38.487245",
     "status": "completed"
    },
    "tags": []
   },
   "outputs": [],
   "source": [
    "## There is only one missing value in heart rate, I will use bfill method for replacing NA value\n",
    "## will bfill it replaces the value that comes directly after it in the same column\n",
    "\n",
    "df_1['heartRate'] = df_1['heartRate'].fillna(method='bfill', axis=0)"
   ]
  },
  {
   "cell_type": "code",
   "execution_count": 39,
   "metadata": {
    "execution": {
     "iopub.execute_input": "2021-02-22T22:54:38.653277Z",
     "iopub.status.busy": "2021-02-22T22:54:38.652603Z",
     "iopub.status.idle": "2021-02-22T22:54:38.667098Z",
     "shell.execute_reply": "2021-02-22T22:54:38.667687Z"
    },
    "papermill": {
     "duration": 0.066493,
     "end_time": "2021-02-22T22:54:38.667915",
     "exception": false,
     "start_time": "2021-02-22T22:54:38.601422",
     "status": "completed"
    },
    "tags": []
   },
   "outputs": [
    {
     "data": {
      "text/plain": [
       "male               0\n",
       "age                0\n",
       "education          0\n",
       "currentSmoker      0\n",
       "cigsPerDay         0\n",
       "BPMeds             0\n",
       "prevalentStroke    0\n",
       "prevalentHyp       0\n",
       "diabetes           0\n",
       "totChol            0\n",
       "sysBP              0\n",
       "diaBP              0\n",
       "BMI                0\n",
       "heartRate          0\n",
       "glucose            0\n",
       "TenYearCHD         0\n",
       "dtype: int64"
      ]
     },
     "execution_count": 39,
     "metadata": {},
     "output_type": "execute_result"
    }
   ],
   "source": [
    "df_1.isnull().sum()"
   ]
  },
  {
   "cell_type": "code",
   "execution_count": 40,
   "metadata": {
    "execution": {
     "iopub.execute_input": "2021-02-22T22:54:38.768268Z",
     "iopub.status.busy": "2021-02-22T22:54:38.767243Z",
     "iopub.status.idle": "2021-02-22T22:54:38.795773Z",
     "shell.execute_reply": "2021-02-22T22:54:38.796440Z"
    },
    "papermill": {
     "duration": 0.081092,
     "end_time": "2021-02-22T22:54:38.796684",
     "exception": false,
     "start_time": "2021-02-22T22:54:38.715592",
     "status": "completed"
    },
    "tags": []
   },
   "outputs": [
    {
     "data": {
      "text/html": [
       "<div>\n",
       "<style scoped>\n",
       "    .dataframe tbody tr th:only-of-type {\n",
       "        vertical-align: middle;\n",
       "    }\n",
       "\n",
       "    .dataframe tbody tr th {\n",
       "        vertical-align: top;\n",
       "    }\n",
       "\n",
       "    .dataframe thead th {\n",
       "        text-align: right;\n",
       "    }\n",
       "</style>\n",
       "<table border=\"1\" class=\"dataframe\">\n",
       "  <thead>\n",
       "    <tr style=\"text-align: right;\">\n",
       "      <th></th>\n",
       "      <th>male</th>\n",
       "      <th>age</th>\n",
       "      <th>education</th>\n",
       "      <th>currentSmoker</th>\n",
       "      <th>cigsPerDay</th>\n",
       "      <th>BPMeds</th>\n",
       "      <th>prevalentStroke</th>\n",
       "      <th>prevalentHyp</th>\n",
       "      <th>diabetes</th>\n",
       "      <th>totChol</th>\n",
       "      <th>sysBP</th>\n",
       "      <th>diaBP</th>\n",
       "      <th>BMI</th>\n",
       "      <th>heartRate</th>\n",
       "      <th>glucose</th>\n",
       "      <th>TenYearCHD</th>\n",
       "    </tr>\n",
       "  </thead>\n",
       "  <tbody>\n",
       "    <tr>\n",
       "      <th>0</th>\n",
       "      <td>1</td>\n",
       "      <td>39</td>\n",
       "      <td>4.0</td>\n",
       "      <td>0</td>\n",
       "      <td>0.0</td>\n",
       "      <td>0.0</td>\n",
       "      <td>0</td>\n",
       "      <td>0</td>\n",
       "      <td>0</td>\n",
       "      <td>195.0</td>\n",
       "      <td>106.0</td>\n",
       "      <td>70.0</td>\n",
       "      <td>26.97</td>\n",
       "      <td>80.0</td>\n",
       "      <td>77.0</td>\n",
       "      <td>0</td>\n",
       "    </tr>\n",
       "    <tr>\n",
       "      <th>1</th>\n",
       "      <td>0</td>\n",
       "      <td>46</td>\n",
       "      <td>2.0</td>\n",
       "      <td>0</td>\n",
       "      <td>0.0</td>\n",
       "      <td>0.0</td>\n",
       "      <td>0</td>\n",
       "      <td>0</td>\n",
       "      <td>0</td>\n",
       "      <td>250.0</td>\n",
       "      <td>121.0</td>\n",
       "      <td>81.0</td>\n",
       "      <td>28.73</td>\n",
       "      <td>95.0</td>\n",
       "      <td>76.0</td>\n",
       "      <td>0</td>\n",
       "    </tr>\n",
       "    <tr>\n",
       "      <th>2</th>\n",
       "      <td>1</td>\n",
       "      <td>48</td>\n",
       "      <td>1.0</td>\n",
       "      <td>1</td>\n",
       "      <td>20.0</td>\n",
       "      <td>0.0</td>\n",
       "      <td>0</td>\n",
       "      <td>0</td>\n",
       "      <td>0</td>\n",
       "      <td>245.0</td>\n",
       "      <td>127.5</td>\n",
       "      <td>80.0</td>\n",
       "      <td>25.34</td>\n",
       "      <td>75.0</td>\n",
       "      <td>70.0</td>\n",
       "      <td>0</td>\n",
       "    </tr>\n",
       "    <tr>\n",
       "      <th>3</th>\n",
       "      <td>0</td>\n",
       "      <td>61</td>\n",
       "      <td>3.0</td>\n",
       "      <td>1</td>\n",
       "      <td>30.0</td>\n",
       "      <td>0.0</td>\n",
       "      <td>0</td>\n",
       "      <td>1</td>\n",
       "      <td>0</td>\n",
       "      <td>225.0</td>\n",
       "      <td>150.0</td>\n",
       "      <td>95.0</td>\n",
       "      <td>28.58</td>\n",
       "      <td>65.0</td>\n",
       "      <td>103.0</td>\n",
       "      <td>1</td>\n",
       "    </tr>\n",
       "    <tr>\n",
       "      <th>4</th>\n",
       "      <td>0</td>\n",
       "      <td>46</td>\n",
       "      <td>3.0</td>\n",
       "      <td>1</td>\n",
       "      <td>23.0</td>\n",
       "      <td>0.0</td>\n",
       "      <td>0</td>\n",
       "      <td>0</td>\n",
       "      <td>0</td>\n",
       "      <td>285.0</td>\n",
       "      <td>130.0</td>\n",
       "      <td>84.0</td>\n",
       "      <td>23.10</td>\n",
       "      <td>85.0</td>\n",
       "      <td>85.0</td>\n",
       "      <td>0</td>\n",
       "    </tr>\n",
       "    <tr>\n",
       "      <th>5</th>\n",
       "      <td>0</td>\n",
       "      <td>43</td>\n",
       "      <td>2.0</td>\n",
       "      <td>0</td>\n",
       "      <td>0.0</td>\n",
       "      <td>0.0</td>\n",
       "      <td>0</td>\n",
       "      <td>1</td>\n",
       "      <td>0</td>\n",
       "      <td>228.0</td>\n",
       "      <td>180.0</td>\n",
       "      <td>110.0</td>\n",
       "      <td>30.30</td>\n",
       "      <td>77.0</td>\n",
       "      <td>99.0</td>\n",
       "      <td>0</td>\n",
       "    </tr>\n",
       "    <tr>\n",
       "      <th>6</th>\n",
       "      <td>0</td>\n",
       "      <td>63</td>\n",
       "      <td>1.0</td>\n",
       "      <td>0</td>\n",
       "      <td>0.0</td>\n",
       "      <td>0.0</td>\n",
       "      <td>0</td>\n",
       "      <td>0</td>\n",
       "      <td>0</td>\n",
       "      <td>205.0</td>\n",
       "      <td>138.0</td>\n",
       "      <td>71.0</td>\n",
       "      <td>33.11</td>\n",
       "      <td>60.0</td>\n",
       "      <td>85.0</td>\n",
       "      <td>1</td>\n",
       "    </tr>\n",
       "    <tr>\n",
       "      <th>7</th>\n",
       "      <td>0</td>\n",
       "      <td>45</td>\n",
       "      <td>2.0</td>\n",
       "      <td>1</td>\n",
       "      <td>20.0</td>\n",
       "      <td>0.0</td>\n",
       "      <td>0</td>\n",
       "      <td>0</td>\n",
       "      <td>0</td>\n",
       "      <td>313.0</td>\n",
       "      <td>100.0</td>\n",
       "      <td>71.0</td>\n",
       "      <td>21.68</td>\n",
       "      <td>79.0</td>\n",
       "      <td>78.0</td>\n",
       "      <td>0</td>\n",
       "    </tr>\n",
       "    <tr>\n",
       "      <th>8</th>\n",
       "      <td>1</td>\n",
       "      <td>52</td>\n",
       "      <td>1.0</td>\n",
       "      <td>0</td>\n",
       "      <td>0.0</td>\n",
       "      <td>0.0</td>\n",
       "      <td>0</td>\n",
       "      <td>1</td>\n",
       "      <td>0</td>\n",
       "      <td>260.0</td>\n",
       "      <td>141.5</td>\n",
       "      <td>89.0</td>\n",
       "      <td>26.36</td>\n",
       "      <td>76.0</td>\n",
       "      <td>79.0</td>\n",
       "      <td>0</td>\n",
       "    </tr>\n",
       "    <tr>\n",
       "      <th>9</th>\n",
       "      <td>1</td>\n",
       "      <td>43</td>\n",
       "      <td>1.0</td>\n",
       "      <td>1</td>\n",
       "      <td>30.0</td>\n",
       "      <td>0.0</td>\n",
       "      <td>0</td>\n",
       "      <td>1</td>\n",
       "      <td>0</td>\n",
       "      <td>225.0</td>\n",
       "      <td>162.0</td>\n",
       "      <td>107.0</td>\n",
       "      <td>23.61</td>\n",
       "      <td>93.0</td>\n",
       "      <td>88.0</td>\n",
       "      <td>0</td>\n",
       "    </tr>\n",
       "  </tbody>\n",
       "</table>\n",
       "</div>"
      ],
      "text/plain": [
       "   male  age  education  currentSmoker  cigsPerDay  BPMeds  prevalentStroke  \\\n",
       "0     1   39        4.0              0         0.0     0.0                0   \n",
       "1     0   46        2.0              0         0.0     0.0                0   \n",
       "2     1   48        1.0              1        20.0     0.0                0   \n",
       "3     0   61        3.0              1        30.0     0.0                0   \n",
       "4     0   46        3.0              1        23.0     0.0                0   \n",
       "5     0   43        2.0              0         0.0     0.0                0   \n",
       "6     0   63        1.0              0         0.0     0.0                0   \n",
       "7     0   45        2.0              1        20.0     0.0                0   \n",
       "8     1   52        1.0              0         0.0     0.0                0   \n",
       "9     1   43        1.0              1        30.0     0.0                0   \n",
       "\n",
       "   prevalentHyp  diabetes  totChol  sysBP  diaBP    BMI  heartRate  glucose  \\\n",
       "0             0         0    195.0  106.0   70.0  26.97       80.0     77.0   \n",
       "1             0         0    250.0  121.0   81.0  28.73       95.0     76.0   \n",
       "2             0         0    245.0  127.5   80.0  25.34       75.0     70.0   \n",
       "3             1         0    225.0  150.0   95.0  28.58       65.0    103.0   \n",
       "4             0         0    285.0  130.0   84.0  23.10       85.0     85.0   \n",
       "5             1         0    228.0  180.0  110.0  30.30       77.0     99.0   \n",
       "6             0         0    205.0  138.0   71.0  33.11       60.0     85.0   \n",
       "7             0         0    313.0  100.0   71.0  21.68       79.0     78.0   \n",
       "8             1         0    260.0  141.5   89.0  26.36       76.0     79.0   \n",
       "9             1         0    225.0  162.0  107.0  23.61       93.0     88.0   \n",
       "\n",
       "   TenYearCHD  \n",
       "0           0  \n",
       "1           0  \n",
       "2           0  \n",
       "3           1  \n",
       "4           0  \n",
       "5           0  \n",
       "6           1  \n",
       "7           0  \n",
       "8           0  \n",
       "9           0  "
      ]
     },
     "execution_count": 40,
     "metadata": {},
     "output_type": "execute_result"
    }
   ],
   "source": [
    "df_1.head(10)"
   ]
  },
  {
   "cell_type": "markdown",
   "metadata": {
    "papermill": {
     "duration": 0.045465,
     "end_time": "2021-02-22T22:54:38.895487",
     "exception": false,
     "start_time": "2021-02-22T22:54:38.850022",
     "status": "completed"
    },
    "tags": []
   },
   "source": [
    "### Checkpoint 2"
   ]
  },
  {
   "cell_type": "code",
   "execution_count": 41,
   "metadata": {
    "execution": {
     "iopub.execute_input": "2021-02-22T22:54:38.990643Z",
     "iopub.status.busy": "2021-02-22T22:54:38.989593Z",
     "iopub.status.idle": "2021-02-22T22:54:38.993961Z",
     "shell.execute_reply": "2021-02-22T22:54:38.994540Z"
    },
    "papermill": {
     "duration": 0.053713,
     "end_time": "2021-02-22T22:54:38.994710",
     "exception": false,
     "start_time": "2021-02-22T22:54:38.940997",
     "status": "completed"
    },
    "tags": []
   },
   "outputs": [],
   "source": [
    "## There is no NA value in the dataset, so I can save it!\n",
    "df_2 = df_1.copy()"
   ]
  },
  {
   "cell_type": "code",
   "execution_count": 42,
   "metadata": {
    "execution": {
     "iopub.execute_input": "2021-02-22T22:54:39.089940Z",
     "iopub.status.busy": "2021-02-22T22:54:39.089000Z",
     "iopub.status.idle": "2021-02-22T22:54:39.095177Z",
     "shell.execute_reply": "2021-02-22T22:54:39.095774Z"
    },
    "papermill": {
     "duration": 0.055042,
     "end_time": "2021-02-22T22:54:39.095941",
     "exception": false,
     "start_time": "2021-02-22T22:54:39.040899",
     "status": "completed"
    },
    "tags": []
   },
   "outputs": [
    {
     "data": {
      "text/plain": [
       "array([4., 2., 1., 3.])"
      ]
     },
     "execution_count": 42,
     "metadata": {},
     "output_type": "execute_result"
    }
   ],
   "source": [
    "df_2[\"education\"].unique()"
   ]
  },
  {
   "cell_type": "code",
   "execution_count": 43,
   "metadata": {
    "execution": {
     "iopub.execute_input": "2021-02-22T22:54:39.192031Z",
     "iopub.status.busy": "2021-02-22T22:54:39.191121Z",
     "iopub.status.idle": "2021-02-22T22:54:39.198512Z",
     "shell.execute_reply": "2021-02-22T22:54:39.199100Z"
    },
    "papermill": {
     "duration": 0.057434,
     "end_time": "2021-02-22T22:54:39.199279",
     "exception": false,
     "start_time": "2021-02-22T22:54:39.141845",
     "status": "completed"
    },
    "tags": []
   },
   "outputs": [
    {
     "data": {
      "text/plain": [
       "1.0    1720\n",
       "2.0    1253\n",
       "3.0     687\n",
       "4.0     473\n",
       "Name: education, dtype: int64"
      ]
     },
     "execution_count": 43,
     "metadata": {},
     "output_type": "execute_result"
    }
   ],
   "source": [
    "df_2[\"education\"].value_counts()"
   ]
  },
  {
   "cell_type": "markdown",
   "metadata": {
    "papermill": {
     "duration": 0.048336,
     "end_time": "2021-02-22T22:54:39.294098",
     "exception": false,
     "start_time": "2021-02-22T22:54:39.245762",
     "status": "completed"
    },
    "tags": []
   },
   "source": [
    "1 - Less than High School Education\n",
    "2 - High School\n",
    "3 - Undergraduate Degree\n",
    "4 - Graduate Degree"
   ]
  },
  {
   "cell_type": "code",
   "execution_count": 44,
   "metadata": {
    "execution": {
     "iopub.execute_input": "2021-02-22T22:54:39.389306Z",
     "iopub.status.busy": "2021-02-22T22:54:39.388371Z",
     "iopub.status.idle": "2021-02-22T22:54:39.395586Z",
     "shell.execute_reply": "2021-02-22T22:54:39.395021Z"
    },
    "papermill": {
     "duration": 0.055832,
     "end_time": "2021-02-22T22:54:39.395722",
     "exception": false,
     "start_time": "2021-02-22T22:54:39.339890",
     "status": "completed"
    },
    "tags": []
   },
   "outputs": [],
   "source": [
    "## I will re-group them 0: Less than High School and High School degrees, 1: College Degree and Higher\n",
    "\n",
    "df_2[\"education\"] = df_2[\"education\"].map({1.0:0, 2.0:0, 3.0:1, 4.0:1})"
   ]
  },
  {
   "cell_type": "code",
   "execution_count": 45,
   "metadata": {
    "execution": {
     "iopub.execute_input": "2021-02-22T22:54:39.492240Z",
     "iopub.status.busy": "2021-02-22T22:54:39.491570Z",
     "iopub.status.idle": "2021-02-22T22:54:39.495391Z",
     "shell.execute_reply": "2021-02-22T22:54:39.495876Z"
    },
    "papermill": {
     "duration": 0.054346,
     "end_time": "2021-02-22T22:54:39.496037",
     "exception": false,
     "start_time": "2021-02-22T22:54:39.441691",
     "status": "completed"
    },
    "tags": []
   },
   "outputs": [
    {
     "data": {
      "text/plain": [
       "array([1, 0])"
      ]
     },
     "execution_count": 45,
     "metadata": {},
     "output_type": "execute_result"
    }
   ],
   "source": [
    "df_2[\"education\"].unique()"
   ]
  },
  {
   "cell_type": "code",
   "execution_count": 46,
   "metadata": {
    "execution": {
     "iopub.execute_input": "2021-02-22T22:54:39.592691Z",
     "iopub.status.busy": "2021-02-22T22:54:39.592054Z",
     "iopub.status.idle": "2021-02-22T22:54:39.598508Z",
     "shell.execute_reply": "2021-02-22T22:54:39.598968Z"
    },
    "papermill": {
     "duration": 0.056164,
     "end_time": "2021-02-22T22:54:39.599159",
     "exception": false,
     "start_time": "2021-02-22T22:54:39.542995",
     "status": "completed"
    },
    "tags": []
   },
   "outputs": [
    {
     "data": {
      "text/plain": [
       "0    2973\n",
       "1    1160\n",
       "Name: education, dtype: int64"
      ]
     },
     "execution_count": 46,
     "metadata": {},
     "output_type": "execute_result"
    }
   ],
   "source": [
    "df_2[\"education\"].value_counts()"
   ]
  },
  {
   "cell_type": "code",
   "execution_count": 47,
   "metadata": {
    "execution": {
     "iopub.execute_input": "2021-02-22T22:54:39.697119Z",
     "iopub.status.busy": "2021-02-22T22:54:39.696462Z",
     "iopub.status.idle": "2021-02-22T22:54:39.703683Z",
     "shell.execute_reply": "2021-02-22T22:54:39.704190Z"
    },
    "papermill": {
     "duration": 0.058064,
     "end_time": "2021-02-22T22:54:39.704373",
     "exception": false,
     "start_time": "2021-02-22T22:54:39.646309",
     "status": "completed"
    },
    "tags": []
   },
   "outputs": [
    {
     "data": {
      "text/plain": [
       "male               0\n",
       "age                0\n",
       "education          0\n",
       "currentSmoker      0\n",
       "cigsPerDay         0\n",
       "BPMeds             0\n",
       "prevalentStroke    0\n",
       "prevalentHyp       0\n",
       "diabetes           0\n",
       "totChol            0\n",
       "sysBP              0\n",
       "diaBP              0\n",
       "BMI                0\n",
       "heartRate          0\n",
       "glucose            0\n",
       "TenYearCHD         0\n",
       "dtype: int64"
      ]
     },
     "execution_count": 47,
     "metadata": {},
     "output_type": "execute_result"
    }
   ],
   "source": [
    "df_2.isnull().sum()"
   ]
  },
  {
   "cell_type": "markdown",
   "metadata": {
    "papermill": {
     "duration": 0.046828,
     "end_time": "2021-02-22T22:54:39.799095",
     "exception": false,
     "start_time": "2021-02-22T22:54:39.752267",
     "status": "completed"
    },
    "tags": []
   },
   "source": [
    "### Checkpoint 3"
   ]
  },
  {
   "cell_type": "code",
   "execution_count": 48,
   "metadata": {
    "execution": {
     "iopub.execute_input": "2021-02-22T22:54:39.896927Z",
     "iopub.status.busy": "2021-02-22T22:54:39.896268Z",
     "iopub.status.idle": "2021-02-22T22:54:39.899910Z",
     "shell.execute_reply": "2021-02-22T22:54:39.900401Z"
    },
    "papermill": {
     "duration": 0.054659,
     "end_time": "2021-02-22T22:54:39.900566",
     "exception": false,
     "start_time": "2021-02-22T22:54:39.845907",
     "status": "completed"
    },
    "tags": []
   },
   "outputs": [],
   "source": [
    "df_preprocessed = df_2.copy()"
   ]
  },
  {
   "cell_type": "code",
   "execution_count": 49,
   "metadata": {
    "execution": {
     "iopub.execute_input": "2021-02-22T22:54:39.999317Z",
     "iopub.status.busy": "2021-02-22T22:54:39.998609Z",
     "iopub.status.idle": "2021-02-22T22:54:40.022935Z",
     "shell.execute_reply": "2021-02-22T22:54:40.023474Z"
    },
    "papermill": {
     "duration": 0.075692,
     "end_time": "2021-02-22T22:54:40.023643",
     "exception": false,
     "start_time": "2021-02-22T22:54:39.947951",
     "status": "completed"
    },
    "tags": []
   },
   "outputs": [
    {
     "data": {
      "text/html": [
       "<div>\n",
       "<style scoped>\n",
       "    .dataframe tbody tr th:only-of-type {\n",
       "        vertical-align: middle;\n",
       "    }\n",
       "\n",
       "    .dataframe tbody tr th {\n",
       "        vertical-align: top;\n",
       "    }\n",
       "\n",
       "    .dataframe thead th {\n",
       "        text-align: right;\n",
       "    }\n",
       "</style>\n",
       "<table border=\"1\" class=\"dataframe\">\n",
       "  <thead>\n",
       "    <tr style=\"text-align: right;\">\n",
       "      <th></th>\n",
       "      <th>male</th>\n",
       "      <th>age</th>\n",
       "      <th>education</th>\n",
       "      <th>currentSmoker</th>\n",
       "      <th>cigsPerDay</th>\n",
       "      <th>BPMeds</th>\n",
       "      <th>prevalentStroke</th>\n",
       "      <th>prevalentHyp</th>\n",
       "      <th>diabetes</th>\n",
       "      <th>totChol</th>\n",
       "      <th>sysBP</th>\n",
       "      <th>diaBP</th>\n",
       "      <th>BMI</th>\n",
       "      <th>heartRate</th>\n",
       "      <th>glucose</th>\n",
       "      <th>TenYearCHD</th>\n",
       "    </tr>\n",
       "  </thead>\n",
       "  <tbody>\n",
       "    <tr>\n",
       "      <th>0</th>\n",
       "      <td>1</td>\n",
       "      <td>39</td>\n",
       "      <td>1</td>\n",
       "      <td>0</td>\n",
       "      <td>0.0</td>\n",
       "      <td>0.0</td>\n",
       "      <td>0</td>\n",
       "      <td>0</td>\n",
       "      <td>0</td>\n",
       "      <td>195.0</td>\n",
       "      <td>106.0</td>\n",
       "      <td>70.0</td>\n",
       "      <td>26.97</td>\n",
       "      <td>80.0</td>\n",
       "      <td>77.0</td>\n",
       "      <td>0</td>\n",
       "    </tr>\n",
       "    <tr>\n",
       "      <th>1</th>\n",
       "      <td>0</td>\n",
       "      <td>46</td>\n",
       "      <td>0</td>\n",
       "      <td>0</td>\n",
       "      <td>0.0</td>\n",
       "      <td>0.0</td>\n",
       "      <td>0</td>\n",
       "      <td>0</td>\n",
       "      <td>0</td>\n",
       "      <td>250.0</td>\n",
       "      <td>121.0</td>\n",
       "      <td>81.0</td>\n",
       "      <td>28.73</td>\n",
       "      <td>95.0</td>\n",
       "      <td>76.0</td>\n",
       "      <td>0</td>\n",
       "    </tr>\n",
       "    <tr>\n",
       "      <th>2</th>\n",
       "      <td>1</td>\n",
       "      <td>48</td>\n",
       "      <td>0</td>\n",
       "      <td>1</td>\n",
       "      <td>20.0</td>\n",
       "      <td>0.0</td>\n",
       "      <td>0</td>\n",
       "      <td>0</td>\n",
       "      <td>0</td>\n",
       "      <td>245.0</td>\n",
       "      <td>127.5</td>\n",
       "      <td>80.0</td>\n",
       "      <td>25.34</td>\n",
       "      <td>75.0</td>\n",
       "      <td>70.0</td>\n",
       "      <td>0</td>\n",
       "    </tr>\n",
       "    <tr>\n",
       "      <th>3</th>\n",
       "      <td>0</td>\n",
       "      <td>61</td>\n",
       "      <td>1</td>\n",
       "      <td>1</td>\n",
       "      <td>30.0</td>\n",
       "      <td>0.0</td>\n",
       "      <td>0</td>\n",
       "      <td>1</td>\n",
       "      <td>0</td>\n",
       "      <td>225.0</td>\n",
       "      <td>150.0</td>\n",
       "      <td>95.0</td>\n",
       "      <td>28.58</td>\n",
       "      <td>65.0</td>\n",
       "      <td>103.0</td>\n",
       "      <td>1</td>\n",
       "    </tr>\n",
       "    <tr>\n",
       "      <th>4</th>\n",
       "      <td>0</td>\n",
       "      <td>46</td>\n",
       "      <td>1</td>\n",
       "      <td>1</td>\n",
       "      <td>23.0</td>\n",
       "      <td>0.0</td>\n",
       "      <td>0</td>\n",
       "      <td>0</td>\n",
       "      <td>0</td>\n",
       "      <td>285.0</td>\n",
       "      <td>130.0</td>\n",
       "      <td>84.0</td>\n",
       "      <td>23.10</td>\n",
       "      <td>85.0</td>\n",
       "      <td>85.0</td>\n",
       "      <td>0</td>\n",
       "    </tr>\n",
       "    <tr>\n",
       "      <th>5</th>\n",
       "      <td>0</td>\n",
       "      <td>43</td>\n",
       "      <td>0</td>\n",
       "      <td>0</td>\n",
       "      <td>0.0</td>\n",
       "      <td>0.0</td>\n",
       "      <td>0</td>\n",
       "      <td>1</td>\n",
       "      <td>0</td>\n",
       "      <td>228.0</td>\n",
       "      <td>180.0</td>\n",
       "      <td>110.0</td>\n",
       "      <td>30.30</td>\n",
       "      <td>77.0</td>\n",
       "      <td>99.0</td>\n",
       "      <td>0</td>\n",
       "    </tr>\n",
       "    <tr>\n",
       "      <th>6</th>\n",
       "      <td>0</td>\n",
       "      <td>63</td>\n",
       "      <td>0</td>\n",
       "      <td>0</td>\n",
       "      <td>0.0</td>\n",
       "      <td>0.0</td>\n",
       "      <td>0</td>\n",
       "      <td>0</td>\n",
       "      <td>0</td>\n",
       "      <td>205.0</td>\n",
       "      <td>138.0</td>\n",
       "      <td>71.0</td>\n",
       "      <td>33.11</td>\n",
       "      <td>60.0</td>\n",
       "      <td>85.0</td>\n",
       "      <td>1</td>\n",
       "    </tr>\n",
       "    <tr>\n",
       "      <th>7</th>\n",
       "      <td>0</td>\n",
       "      <td>45</td>\n",
       "      <td>0</td>\n",
       "      <td>1</td>\n",
       "      <td>20.0</td>\n",
       "      <td>0.0</td>\n",
       "      <td>0</td>\n",
       "      <td>0</td>\n",
       "      <td>0</td>\n",
       "      <td>313.0</td>\n",
       "      <td>100.0</td>\n",
       "      <td>71.0</td>\n",
       "      <td>21.68</td>\n",
       "      <td>79.0</td>\n",
       "      <td>78.0</td>\n",
       "      <td>0</td>\n",
       "    </tr>\n",
       "    <tr>\n",
       "      <th>8</th>\n",
       "      <td>1</td>\n",
       "      <td>52</td>\n",
       "      <td>0</td>\n",
       "      <td>0</td>\n",
       "      <td>0.0</td>\n",
       "      <td>0.0</td>\n",
       "      <td>0</td>\n",
       "      <td>1</td>\n",
       "      <td>0</td>\n",
       "      <td>260.0</td>\n",
       "      <td>141.5</td>\n",
       "      <td>89.0</td>\n",
       "      <td>26.36</td>\n",
       "      <td>76.0</td>\n",
       "      <td>79.0</td>\n",
       "      <td>0</td>\n",
       "    </tr>\n",
       "    <tr>\n",
       "      <th>9</th>\n",
       "      <td>1</td>\n",
       "      <td>43</td>\n",
       "      <td>0</td>\n",
       "      <td>1</td>\n",
       "      <td>30.0</td>\n",
       "      <td>0.0</td>\n",
       "      <td>0</td>\n",
       "      <td>1</td>\n",
       "      <td>0</td>\n",
       "      <td>225.0</td>\n",
       "      <td>162.0</td>\n",
       "      <td>107.0</td>\n",
       "      <td>23.61</td>\n",
       "      <td>93.0</td>\n",
       "      <td>88.0</td>\n",
       "      <td>0</td>\n",
       "    </tr>\n",
       "  </tbody>\n",
       "</table>\n",
       "</div>"
      ],
      "text/plain": [
       "   male  age  education  currentSmoker  cigsPerDay  BPMeds  prevalentStroke  \\\n",
       "0     1   39          1              0         0.0     0.0                0   \n",
       "1     0   46          0              0         0.0     0.0                0   \n",
       "2     1   48          0              1        20.0     0.0                0   \n",
       "3     0   61          1              1        30.0     0.0                0   \n",
       "4     0   46          1              1        23.0     0.0                0   \n",
       "5     0   43          0              0         0.0     0.0                0   \n",
       "6     0   63          0              0         0.0     0.0                0   \n",
       "7     0   45          0              1        20.0     0.0                0   \n",
       "8     1   52          0              0         0.0     0.0                0   \n",
       "9     1   43          0              1        30.0     0.0                0   \n",
       "\n",
       "   prevalentHyp  diabetes  totChol  sysBP  diaBP    BMI  heartRate  glucose  \\\n",
       "0             0         0    195.0  106.0   70.0  26.97       80.0     77.0   \n",
       "1             0         0    250.0  121.0   81.0  28.73       95.0     76.0   \n",
       "2             0         0    245.0  127.5   80.0  25.34       75.0     70.0   \n",
       "3             1         0    225.0  150.0   95.0  28.58       65.0    103.0   \n",
       "4             0         0    285.0  130.0   84.0  23.10       85.0     85.0   \n",
       "5             1         0    228.0  180.0  110.0  30.30       77.0     99.0   \n",
       "6             0         0    205.0  138.0   71.0  33.11       60.0     85.0   \n",
       "7             0         0    313.0  100.0   71.0  21.68       79.0     78.0   \n",
       "8             1         0    260.0  141.5   89.0  26.36       76.0     79.0   \n",
       "9             1         0    225.0  162.0  107.0  23.61       93.0     88.0   \n",
       "\n",
       "   TenYearCHD  \n",
       "0           0  \n",
       "1           0  \n",
       "2           0  \n",
       "3           1  \n",
       "4           0  \n",
       "5           0  \n",
       "6           1  \n",
       "7           0  \n",
       "8           0  \n",
       "9           0  "
      ]
     },
     "execution_count": 49,
     "metadata": {},
     "output_type": "execute_result"
    }
   ],
   "source": [
    "df_preprocessed.head(10)"
   ]
  },
  {
   "cell_type": "code",
   "execution_count": 50,
   "metadata": {
    "execution": {
     "iopub.execute_input": "2021-02-22T22:54:40.123070Z",
     "iopub.status.busy": "2021-02-22T22:54:40.122451Z",
     "iopub.status.idle": "2021-02-22T22:54:40.130645Z",
     "shell.execute_reply": "2021-02-22T22:54:40.130103Z"
    },
    "papermill": {
     "duration": 0.059239,
     "end_time": "2021-02-22T22:54:40.130795",
     "exception": false,
     "start_time": "2021-02-22T22:54:40.071556",
     "status": "completed"
    },
    "tags": []
   },
   "outputs": [
    {
     "data": {
      "text/plain": [
       "male               0\n",
       "age                0\n",
       "education          0\n",
       "currentSmoker      0\n",
       "cigsPerDay         0\n",
       "BPMeds             0\n",
       "prevalentStroke    0\n",
       "prevalentHyp       0\n",
       "diabetes           0\n",
       "totChol            0\n",
       "sysBP              0\n",
       "diaBP              0\n",
       "BMI                0\n",
       "heartRate          0\n",
       "glucose            0\n",
       "TenYearCHD         0\n",
       "dtype: int64"
      ]
     },
     "execution_count": 50,
     "metadata": {},
     "output_type": "execute_result"
    }
   ],
   "source": [
    "df_preprocessed.isnull().sum()"
   ]
  },
  {
   "cell_type": "code",
   "execution_count": 51,
   "metadata": {
    "execution": {
     "iopub.execute_input": "2021-02-22T22:54:40.233012Z",
     "iopub.status.busy": "2021-02-22T22:54:40.232393Z",
     "iopub.status.idle": "2021-02-22T22:54:40.282459Z",
     "shell.execute_reply": "2021-02-22T22:54:40.281772Z"
    },
    "papermill": {
     "duration": 0.10319,
     "end_time": "2021-02-22T22:54:40.282593",
     "exception": false,
     "start_time": "2021-02-22T22:54:40.179403",
     "status": "completed"
    },
    "tags": []
   },
   "outputs": [],
   "source": [
    "df_preprocessed.to_csv('CHD_preprocessed.csv', index=False)"
   ]
  },
  {
   "cell_type": "code",
   "execution_count": null,
   "metadata": {
    "papermill": {
     "duration": 0.048078,
     "end_time": "2021-02-22T22:54:40.379429",
     "exception": false,
     "start_time": "2021-02-22T22:54:40.331351",
     "status": "completed"
    },
    "tags": []
   },
   "outputs": [],
   "source": []
  }
 ],
 "metadata": {
  "kernelspec": {
   "display_name": "Python 3",
   "language": "python",
   "name": "python3"
  },
  "language_info": {
   "codemirror_mode": {
    "name": "ipython",
    "version": 3
   },
   "file_extension": ".py",
   "mimetype": "text/x-python",
   "name": "python",
   "nbconvert_exporter": "python",
   "pygments_lexer": "ipython3",
   "version": "3.7.6"
  },
  "papermill": {
   "default_parameters": {},
   "duration": 11.786819,
   "end_time": "2021-02-22T22:54:40.938077",
   "environment_variables": {},
   "exception": null,
   "input_path": "__notebook__.ipynb",
   "output_path": "__notebook__.ipynb",
   "parameters": {},
   "start_time": "2021-02-22T22:54:29.151258",
   "version": "2.2.2"
  }
 },
 "nbformat": 4,
 "nbformat_minor": 4
}
